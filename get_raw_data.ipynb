{
 "cells": [
  {
   "cell_type": "code",
   "execution_count": 1,
   "metadata": {},
   "outputs": [
    {
     "ename": "ModuleNotFoundError",
     "evalue": "No module named 'rpy2'",
     "output_type": "error",
     "traceback": [
      "\u001b[0;31m---------------------------------------------------------------------------\u001b[0m",
      "\u001b[0;31mModuleNotFoundError\u001b[0m                       Traceback (most recent call last)",
      "Cell \u001b[0;32mIn[1], line 3\u001b[0m\n\u001b[1;32m      1\u001b[0m \u001b[38;5;28;01mimport\u001b[39;00m \u001b[38;5;21;01manndata\u001b[39;00m\n\u001b[1;32m      2\u001b[0m \u001b[38;5;28;01mimport\u001b[39;00m \u001b[38;5;21;01mscanpy\u001b[39;00m \u001b[38;5;28;01mas\u001b[39;00m \u001b[38;5;21;01msc\u001b[39;00m\n\u001b[0;32m----> 3\u001b[0m \u001b[38;5;28;01mimport\u001b[39;00m \u001b[38;5;21;01mrpy2\u001b[39;00m\u001b[38;5;21;01m.\u001b[39;00m\u001b[38;5;21;01mrobjects\u001b[39;00m \u001b[38;5;28;01mas\u001b[39;00m \u001b[38;5;21;01mro\u001b[39;00m\n\u001b[1;32m      4\u001b[0m \u001b[38;5;28;01mfrom\u001b[39;00m \u001b[38;5;21;01mrpy2\u001b[39;00m\u001b[38;5;21;01m.\u001b[39;00m\u001b[38;5;21;01mrobjects\u001b[39;00m \u001b[38;5;28;01mimport\u001b[39;00m pandas2ri\n",
      "\u001b[0;31mModuleNotFoundError\u001b[0m: No module named 'rpy2'"
     ]
    }
   ],
   "source": [
    "import anndata\n",
    "import scanpy as sc\n",
    "import rpy2.robjects as ro\n",
    "from rpy2.robjects import pandas2ri\n",
    "\n"
   ]
  },
  {
   "cell_type": "code",
   "execution_count": null,
   "metadata": {},
   "outputs": [],
   "source": [
    "# 激活pandas和R之间的转换\n",
    "pandas2ri.activate()\n",
    "\n",
    "# 定义读取R对象的函数\n",
    "def read_rds(file_path):\n",
    "    readRDS = ro.r['readRDS']\n",
    "    return readRDS(file_path)\n",
    "\n",
    "# 读取数据\n",
    "count_matrix_monkey1 = read_rds(\"snRNA.sparseMatrix_Monkey1.counts.rds\")\n",
    "count_matrix_monkey2 = read_rds(\"snRNA.sparseMatrix_Monkey2.counts.rds\")\n",
    "metadata = read_rds(\"snRNA.metadata.2monkeys.rds\")\n",
    "\n",
    "# 将R数据框转换为pandas数据框\n",
    "count_matrix_monkey1_df = pandas2ri.ri2py(count_matrix_monkey1)\n",
    "count_matrix_monkey2_df = pandas2ri.ri2py(count_matrix_monkey2)\n",
    "metadata_df = pandas2ri.ri2py(metadata)\n",
    "\n",
    "# 创建AnnData对象\n",
    "adata_monkey1 = sc.AnnData(count_matrix_monkey1_df)\n",
    "adata_monkey2 = sc.AnnData(count_matrix_monkey2_df)\n",
    "\n",
    "# 合并数据\n",
    "adata = adata_monkey1.concatenate(adata_monkey2, batch_key='monkey', batch_categories=['Monkey1', 'Monkey2'])\n",
    "\n",
    "# 添加元数据\n",
    "adata.obs = metadata_df\n",
    "\n",
    "\n"
   ]
  }
 ],
 "metadata": {
  "kernelspec": {
   "display_name": "PASTE",
   "language": "python",
   "name": "python3"
  },
  "language_info": {
   "codemirror_mode": {
    "name": "ipython",
    "version": 3
   },
   "file_extension": ".py",
   "mimetype": "text/x-python",
   "name": "python",
   "nbconvert_exporter": "python",
   "pygments_lexer": "ipython3",
   "version": "3.9.19"
  }
 },
 "nbformat": 4,
 "nbformat_minor": 2
}
