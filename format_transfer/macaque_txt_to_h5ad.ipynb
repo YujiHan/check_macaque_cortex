{
 "cells": [
  {
   "cell_type": "code",
   "execution_count": 1,
   "metadata": {},
   "outputs": [],
   "source": [
    "import pandas as pd\n",
    "import numpy as np\n",
    "from anndata import AnnData\n",
    "import scanpy as sc\n",
    "import scipy.sparse as sp\n",
    "import glob\n",
    "from tqdm import tqdm\n",
    "import gc  # 导入垃圾回收模块"
   ]
  },
  {
   "cell_type": "code",
   "execution_count": 2,
   "metadata": {},
   "outputs": [],
   "source": [
    "def load_macaque_data(file_path):\n",
    "    df = pd.read_csv(file_path, sep='\\t', header=0)\n",
    "    data_matrix = df.pivot_table(\n",
    "        index='cell_id', columns='gene', values='expr', aggfunc='sum', fill_value=0\n",
    "    )\n",
    "    obs_data = (\n",
    "        df[['chip', 'cell_id', 'gene_area']]\n",
    "        .drop_duplicates('cell_id')\n",
    "        .set_index('cell_id')\n",
    "    )\n",
    "    spatial_data = (\n",
    "        df[['cell_id', 'x', 'y', 'rx', 'ry']]\n",
    "        .drop_duplicates('cell_id')\n",
    "        .set_index('cell_id')\n",
    "    )\n",
    "    obsm_data = {'spatial': spatial_data[['x', 'y', 'rx', 'ry']].values}\n",
    "\n",
    "    adata = sc.AnnData(\n",
    "        X=sp.csr_matrix(data_matrix),  # 细胞-基因表达矩阵\n",
    "        obs=obs_data,  # 观测值矩阵\n",
    "        var=pd.DataFrame(index=data_matrix.columns),  # 变量矩阵\n",
    "        obsm=obsm_data,  # 观测值的多维数组\n",
    "    )\n",
    "    \n",
    "    \n",
    "    # del df, data_matrix, obs_data, spatial_data, obsm_data\n",
    "    # gc.collect()\n",
    "    return adata\n"
   ]
  },
  {
   "cell_type": "code",
   "execution_count": 3,
   "metadata": {},
   "outputs": [],
   "source": [
    "macaque1 = glob.glob(\n",
    "    '/home/hanyuji/Data/ST_data/macaque_cortex/ST_result/20230503-macaque1-sct/*macaque1*'\n",
    ")\n",
    "\n",
    "h5ad_dic = '/home/hanyuji/Data/ST_data/macaque_cortex/h5ad/'"
   ]
  },
  {
   "cell_type": "code",
   "execution_count": 4,
   "metadata": {},
   "outputs": [
    {
     "name": "stderr",
     "output_type": "stream",
     "text": [
      "  0%|          | 0/119 [00:00<?, ?it/s]/tmp/ipykernel_3926453/1686914955.py:3: PerformanceWarning: The following operation may generate 3448025988 cells in the resulting pandas object.\n",
      "  data_matrix = df.pivot_table(\n",
      "/home/hanyuji/miniconda3/envs/PASTE/lib/python3.9/site-packages/anndata/_core/aligned_df.py:67: ImplicitModificationWarning: Transforming to str index.\n",
      "  warnings.warn(\"Transforming to str index.\", ImplicitModificationWarning)\n",
      "  0%|          | 0/119 [03:10<?, ?it/s]\n"
     ]
    }
   ],
   "source": [
    "for file_path in tqdm(macaque1):\n",
    "    pass\n",
    "    adata = load_macaque_data(file_path)\n",
    "\n",
    "    file_name = file_path.split('/')[-1]\n",
    "    h5ad_filename = file_name[: file_name.rfind('round')] + 'h5ad'\n",
    "\n",
    "    adata.write(h5ad_dic + h5ad_filename)\n",
    "    \n",
    "    break\n",
    "    \n",
    "    # del adata\n",
    "    # gc.collect()\n"
   ]
  },
  {
   "cell_type": "code",
   "execution_count": null,
   "metadata": {},
   "outputs": [],
   "source": []
  }
 ],
 "metadata": {
  "kernelspec": {
   "display_name": "PASTE",
   "language": "python",
   "name": "python3"
  },
  "language_info": {
   "codemirror_mode": {
    "name": "ipython",
    "version": 3
   },
   "file_extension": ".py",
   "mimetype": "text/x-python",
   "name": "python",
   "nbconvert_exporter": "python",
   "pygments_lexer": "ipython3",
   "version": "3.9.19"
  }
 },
 "nbformat": 4,
 "nbformat_minor": 2
}
