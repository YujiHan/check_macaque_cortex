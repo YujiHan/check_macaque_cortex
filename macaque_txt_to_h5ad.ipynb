{
 "cells": [
  {
   "cell_type": "code",
   "execution_count": null,
   "metadata": {},
   "outputs": [],
   "source": [
    "import pandas as pd\n",
    "import numpy as np\n",
    "from anndata import AnnData\n",
    "import scanpy as sc\n",
    "import scipy.sparse as sp"
   ]
  },
  {
   "cell_type": "code",
   "execution_count": null,
   "metadata": {},
   "outputs": [],
   "source": [
    "def load_macaque_data(file_path):\n",
    "    df = pd.read_csv(file_path, sep='\\t',header=0)\n",
    "    data_matrix = df.pivot_table(index='cell_id', columns='gene', values='expr', aggfunc='sum', fill_value=0)\n",
    "    obs_data = df[['chip', 'cell_id', 'gene_area']].drop_duplicates('cell_id').set_index('cell_id')\n",
    "    spatial_data = df[['cell_id', 'x', 'y', 'rx', 'ry']].drop_duplicates('cell_id').set_index('cell_id')\n",
    "    obsm_data = {'spatial': spatial_data[['x', 'y', 'rx', 'ry']].values}\n",
    "\n",
    "    adata = sc.AnnData(\n",
    "        X=sp.csr_matrix(data_matrix),  # 细胞-基因表达矩阵\n",
    "        obs=obs_data,  # 观测值矩阵\n",
    "        var=pd.DataFrame(index=data_matrix.columns),  # 变量矩阵\n",
    "        obsm=obsm_data,  # 观测值的多维数组\n",
    "        uns={'metadata': 'optional metadata can be stored here'}  # 其他未结构化数据\n",
    "    )\n",
    "    \n",
    "    return adata\n"
   ]
  },
  {
   "cell_type": "code",
   "execution_count": null,
   "metadata": {},
   "outputs": [
    {
     "name": "stderr",
     "output_type": "stream",
     "text": [
      "/tmp/ipykernel_952727/674388504.py:3: PerformanceWarning: The following operation may generate 6037520715 cells in the resulting pandas object.\n",
      "  data_matrix = df.pivot_table(index='cell_id', columns='gene', values='expr', aggfunc='sum', fill_value=0)\n",
      "/home/hanyuji/miniconda3/envs/PASTE/lib/python3.9/site-packages/anndata/_core/aligned_df.py:67: ImplicitModificationWarning: Transforming to str index.\n",
      "  warnings.warn(\"Transforming to str index.\", ImplicitModificationWarning)\n"
     ]
    },
    {
     "data": {
      "text/plain": [
       "dtype('float64')"
      ]
     },
     "metadata": {},
     "output_type": "display_data"
    }
   ],
   "source": [
    "file_path = '/home/hanyuji/Data/ST_data/macaque_cortex/ST_result/20230503-macaque1-sct/total_gene_T25.type20230503-macaque1-contour2.round.txt'\n",
    "adata = load_macaque_data(file_path)\n",
    "adata.X.dtype"
   ]
  },
  {
   "cell_type": "code",
   "execution_count": null,
   "metadata": {},
   "outputs": [],
   "source": [
    "dic = '/home/hanyuji/Data/ST_data/macaque_cortex/h5ad/'\n",
    "adata.write(dic + 'total_gene_T25.type20230503-macaque1-contour2.round.h5ad')"
   ]
  },
  {
   "cell_type": "code",
   "execution_count": null,
   "metadata": {},
   "outputs": [],
   "source": []
  },
  {
   "cell_type": "code",
   "execution_count": null,
   "metadata": {},
   "outputs": [],
   "source": []
  },
  {
   "cell_type": "code",
   "execution_count": null,
   "metadata": {},
   "outputs": [],
   "source": []
  },
  {
   "cell_type": "code",
   "execution_count": null,
   "metadata": {},
   "outputs": [],
   "source": []
  },
  {
   "cell_type": "code",
   "execution_count": null,
   "metadata": {},
   "outputs": [
    {
     "name": "stderr",
     "output_type": "stream",
     "text": [
      "/tmp/ipykernel_952727/674388504.py:3: PerformanceWarning: The following operation may generate 6265554785 cells in the resulting pandas object.\n",
      "  data_matrix = df.pivot_table(index='cell_id', columns='gene', values='expr', aggfunc='sum', fill_value=0)\n",
      "/home/hanyuji/miniconda3/envs/PASTE/lib/python3.9/site-packages/anndata/_core/aligned_df.py:67: ImplicitModificationWarning: Transforming to str index.\n",
      "  warnings.warn(\"Transforming to str index.\", ImplicitModificationWarning)\n"
     ]
    },
    {
     "data": {
      "text/plain": [
       "(398699, 15715)"
      ]
     },
     "metadata": {},
     "output_type": "display_data"
    }
   ],
   "source": [
    "file_path = '/home/hanyuji/Data/ST_data/macaque_cortex/ST_result/20230503-macaque1-sct/total_gene_T30.type20230503-macaque1-contour2.round.txt'\n",
    "adata5 = load_macaque_data(file_path)\n",
    "adata5.X.shape"
   ]
  },
  {
   "cell_type": "code",
   "execution_count": null,
   "metadata": {},
   "outputs": [],
   "source": [
    "adata_merged = sc.concat(\n",
    "    [adata, adata2, adata3, adata4, adata5],\n",
    "    join='outer',  # 使用'outer'合并变量（基因），缺失的数据会用0填充\n",
    "    keys=['1', '2', '3', '4', '5'],\n",
    "    index_unique='-'\n",
    ")"
   ]
  },
  {
   "cell_type": "code",
   "execution_count": null,
   "metadata": {},
   "outputs": [],
   "source": [
    "# 在obs中添加'slice'列来标记切片编号\n",
    "adata_merged.obs['slice'] = adata_merged.obs_names.str.split('-').str.get(1)\n",
    "adata_merged.obs['slice'] = adata_merged.obs['slice'].astype(int)"
   ]
  },
  {
   "cell_type": "code",
   "execution_count": null,
   "metadata": {},
   "outputs": [],
   "source": [
    "z_values = adata_merged.obs['slice'].values.reshape(-1, 1)\n",
    "\n",
    "# 更新adata_merged.obsm['spatial']以包括新的列\n",
    "adata_merged.obsm['spatial'] = np.hstack((adata_merged.obsm['spatial'], z_values))"
   ]
  },
  {
   "cell_type": "code",
   "execution_count": null,
   "metadata": {},
   "outputs": [
    {
     "data": {
      "text/html": [
       "<div>\n",
       "<style scoped>\n",
       "    .dataframe tbody tr th:only-of-type {\n",
       "        vertical-align: middle;\n",
       "    }\n",
       "\n",
       "    .dataframe tbody tr th {\n",
       "        vertical-align: top;\n",
       "    }\n",
       "\n",
       "    .dataframe thead th {\n",
       "        text-align: right;\n",
       "    }\n",
       "</style>\n",
       "<table border=\"1\" class=\"dataframe\">\n",
       "  <thead>\n",
       "    <tr style=\"text-align: right;\">\n",
       "      <th></th>\n",
       "      <th>0</th>\n",
       "      <th>1</th>\n",
       "      <th>2</th>\n",
       "      <th>3</th>\n",
       "      <th>4</th>\n",
       "      <th>5</th>\n",
       "    </tr>\n",
       "  </thead>\n",
       "  <tbody>\n",
       "    <tr>\n",
       "      <th>0</th>\n",
       "      <td>30219.0</td>\n",
       "      <td>41486.0</td>\n",
       "      <td>26495.0</td>\n",
       "      <td>78768.0</td>\n",
       "      <td>1</td>\n",
       "      <td>1</td>\n",
       "    </tr>\n",
       "    <tr>\n",
       "      <th>1</th>\n",
       "      <td>45507.0</td>\n",
       "      <td>82615.0</td>\n",
       "      <td>24584.0</td>\n",
       "      <td>34927.0</td>\n",
       "      <td>1</td>\n",
       "      <td>1</td>\n",
       "    </tr>\n",
       "    <tr>\n",
       "      <th>2</th>\n",
       "      <td>42446.0</td>\n",
       "      <td>48058.0</td>\n",
       "      <td>16863.0</td>\n",
       "      <td>68738.0</td>\n",
       "      <td>1</td>\n",
       "      <td>1</td>\n",
       "    </tr>\n",
       "    <tr>\n",
       "      <th>3</th>\n",
       "      <td>47325.0</td>\n",
       "      <td>43145.0</td>\n",
       "      <td>10723.0</td>\n",
       "      <td>71934.0</td>\n",
       "      <td>1</td>\n",
       "      <td>1</td>\n",
       "    </tr>\n",
       "    <tr>\n",
       "      <th>4</th>\n",
       "      <td>27509.0</td>\n",
       "      <td>106368.0</td>\n",
       "      <td>49007.0</td>\n",
       "      <td>17861.0</td>\n",
       "      <td>1</td>\n",
       "      <td>1</td>\n",
       "    </tr>\n",
       "    <tr>\n",
       "      <th>...</th>\n",
       "      <td>...</td>\n",
       "      <td>...</td>\n",
       "      <td>...</td>\n",
       "      <td>...</td>\n",
       "      <td>...</td>\n",
       "      <td>...</td>\n",
       "    </tr>\n",
       "    <tr>\n",
       "      <th>1578933</th>\n",
       "      <td>31921.0</td>\n",
       "      <td>51199.0</td>\n",
       "      <td>35839.0</td>\n",
       "      <td>32572.0</td>\n",
       "      <td>5</td>\n",
       "      <td>5</td>\n",
       "    </tr>\n",
       "    <tr>\n",
       "      <th>1578934</th>\n",
       "      <td>36062.0</td>\n",
       "      <td>45055.0</td>\n",
       "      <td>31056.0</td>\n",
       "      <td>26912.0</td>\n",
       "      <td>5</td>\n",
       "      <td>5</td>\n",
       "    </tr>\n",
       "    <tr>\n",
       "      <th>1578935</th>\n",
       "      <td>4881.0</td>\n",
       "      <td>44626.0</td>\n",
       "      <td>61996.0</td>\n",
       "      <td>23120.0</td>\n",
       "      <td>5</td>\n",
       "      <td>5</td>\n",
       "    </tr>\n",
       "    <tr>\n",
       "      <th>1578936</th>\n",
       "      <td>35088.0</td>\n",
       "      <td>63003.0</td>\n",
       "      <td>33961.0</td>\n",
       "      <td>44650.0</td>\n",
       "      <td>5</td>\n",
       "      <td>5</td>\n",
       "    </tr>\n",
       "    <tr>\n",
       "      <th>1578937</th>\n",
       "      <td>23529.0</td>\n",
       "      <td>92170.0</td>\n",
       "      <td>48606.0</td>\n",
       "      <td>72398.0</td>\n",
       "      <td>5</td>\n",
       "      <td>5</td>\n",
       "    </tr>\n",
       "  </tbody>\n",
       "</table>\n",
       "<p>1578938 rows × 6 columns</p>\n",
       "</div>"
      ],
      "text/plain": [
       "               0         1        2        3  4  5\n",
       "0        30219.0   41486.0  26495.0  78768.0  1  1\n",
       "1        45507.0   82615.0  24584.0  34927.0  1  1\n",
       "2        42446.0   48058.0  16863.0  68738.0  1  1\n",
       "3        47325.0   43145.0  10723.0  71934.0  1  1\n",
       "4        27509.0  106368.0  49007.0  17861.0  1  1\n",
       "...          ...       ...      ...      ... .. ..\n",
       "1578933  31921.0   51199.0  35839.0  32572.0  5  5\n",
       "1578934  36062.0   45055.0  31056.0  26912.0  5  5\n",
       "1578935   4881.0   44626.0  61996.0  23120.0  5  5\n",
       "1578936  35088.0   63003.0  33961.0  44650.0  5  5\n",
       "1578937  23529.0   92170.0  48606.0  72398.0  5  5\n",
       "\n",
       "[1578938 rows x 6 columns]"
      ]
     },
     "metadata": {},
     "output_type": "display_data"
    }
   ],
   "source": [
    "coo = pd.DataFrame(adata_merged.obsm['spatial'])\n",
    "coo"
   ]
  },
  {
   "cell_type": "code",
   "execution_count": null,
   "metadata": {},
   "outputs": [],
   "source": [
    "import glob\n",
    "\n",
    "images = glob.glob('/home/hanyuji/Data/ST_data/macaque_cortex/ST_result/20230503-macaque1-sct/*macaque1*')"
   ]
  },
  {
   "cell_type": "code",
   "execution_count": null,
   "metadata": {},
   "outputs": [],
   "source": []
  },
  {
   "cell_type": "code",
   "execution_count": null,
   "metadata": {},
   "outputs": [],
   "source": []
  },
  {
   "cell_type": "code",
   "execution_count": null,
   "metadata": {},
   "outputs": [],
   "source": []
  },
  {
   "cell_type": "code",
   "execution_count": null,
   "metadata": {},
   "outputs": [
    {
     "data": {
      "text/plain": [
       "<matplotlib.collections.PathCollection at 0x7fbf03697c70>"
      ]
     },
     "metadata": {},
     "output_type": "display_data"
    },
    {
     "data": {
      "image/png": "[encoded data removed]",
      "text/plain": [
       "<Figure size 640x480 with 1 Axes>"
      ]
     },
     "metadata": {},
     "output_type": "display_data"
    }
   ],
   "source": [
    "import matplotlib.pyplot as plt\n",
    "coo = pd.DataFrame(adata.obsm['spatial'])\n",
    "\n",
    "fig = plt.figure(figsize=(10, 10))\n",
    "plt.scatter(coo[0], coo[1], c='b', marker='x',s=1)"
   ]
  },
  {
   "cell_type": "code",
   "execution_count": null,
   "metadata": {},
   "outputs": [],
   "source": []
  }
 ],
 "metadata": {
  "kernelspec": {
   "display_name": "PASTE",
   "language": "python",
   "name": "python3"
  },
  "language_info": {
   "name": "python",
   "version": "3.9.-1"
  }
 },
 "nbformat": 4,
 "nbformat_minor": 2
}
